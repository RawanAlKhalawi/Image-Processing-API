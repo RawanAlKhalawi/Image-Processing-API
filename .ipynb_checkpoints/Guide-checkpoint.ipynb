{
 "cells": [
  {
   "cell_type": "markdown",
   "metadata": {
    "editable": true,
    "ulab": {
     "buttons": {
      "ulab-button-2f09944d": {
       "bashCommand": "",
       "filesToOpen": [
        "server/index.js"
       ],
       "isPreviewButton": true,
       "runInBackground": false,
       "style": "primary",
       "text": "View build in browser",
       "toggleOffText": "HIDE SOLUTION",
       "toggleOnText": "SHOW SOLUTION"
      },
      "ulab-button-c2092548": {
       "bashCommand": "",
       "filesToOpen": [
        "src/index.ts"
       ],
       "isPreviewButton": true,
       "runInBackground": false,
       "style": "primary",
       "text": "View src in browser",
       "toggleOffText": "HIDE SOLUTION",
       "toggleOnText": "SHOW SOLUTION"
      }
     }
    }
   },
   "source": [
    "# View your project\n",
    "\n",
    "<button id=\"ulab-button-c2092548\" class=\"ulab-btn--primary\">View in Browser</button><button id=\"ulab-button-2f09944d\" class=\"ulab-btn--primary\"></button>\n",
    "\n",
    "src opens src > index.ts\n",
    "\n",
    "build opens server > index.js"
   ]
  },
  {
   "cell_type": "markdown",
   "metadata": {
    "editable": true,
    "ulab": {
     "buttons": {
      "ulab-button-81aca2eb": {
       "bashCommand": "",
       "filesToOpen": [],
       "isPreviewButton": false,
       "runInBackground": false,
       "text": "RIGHT CLICK ME"
      },
      "ulab-button-da5de41f": {
       "bashCommand": "",
       "filesToOpen": [],
       "isPreviewButton": false,
       "runInBackground": false,
       "text": "RIGHT CLICK ME"
      }
     }
    }
   },
   "source": [
    "\n",
    "# Instructions\n",
    "\n",
    "Feel free to attempt to create this project based on the overview and <a href=\"a href=&quot;https://review.udacity.com/#!/rubrics/3005/view&quot; target=&quot;_blank&quot;&gt;https://review.udacity.com/#!/rubrics/3005/view&lt;/a\" target=\"_blank\">rubric specifications</a>. If you get stuck or prefer structured guidance -- here is a walkthrough to get you up and running!\n",
    "\n",
    "1. **Initialize your project.** Add the dependencies that are required for this project including Express, TypeScript, Jest, Eslint, and Prettier. Complete your package.json file.\n",
    "   * Where should your dependencies be placed? \n",
    "   * What scripts should you create to fully take advantage of the dependencies you've added. \n",
    "   * Are there other dependencies you would like to add or that you know you will need to improve your workflow?\n",
    "1. **Set up your project structure.** Create folders and files for what you anticipate you will need for the project.\n",
    "   * How do you plan to keep your source code and build code separate?\n",
    "   * Where will you keep your tests?\n",
    "   * How do you plan to name your routes? Utilities?\n",
    "1. **Configure your middleware. **You have quite a few dependencies that all need to work together. Sometimes it's easiest to write some simple js functions to test that all of your dependencies are working together before you begin adding any sort of functionality. \n",
    "   * Does your TypeScript compile?\n",
    "   * Do your Eslint and Prettier scripts work?\n",
    "   * Are you able to write and pass a basic unit test?\n",
    "1. **Set up your server and create an API endpoint. **Even though this application is fairly straightforward, you still want to set it up in a scalable way. How can you set up your server and endpoint so that your project remains scalable? Only one endpoint is required. It's best to create this and test that it is working before you move on. \n",
    "1. **Install **<a href=\"https://www.npmjs.com/package/sharp\" target=\"_blank\">**Sharp**</a>** and configure endpoint. **Documentation for Sharp can be found <a href=\"https://www.npmjs.com/package/sharp\" target=\"_blank\">here</a>. It is required that you create a separate module for your processing functionality and import it into your route. It is only required that you add resizing, but you may add additional processing if you choose to extend your application. It is also only required that you work with jpg files, so keep that in mind if you choose to use your own images and they are other formats. \n",
    "   * Pay close attention to if you need to use asynchronous code or not. If you do, make sure you stay consistent throughout your application. \n",
    "   * There is limited information on using Sharp with TypeScript, but don't let that be a blocker.  Think about what type, the Sharp constructor would return. Have a look at the <a href=\"https://sharp.pixelplumbing.com/api-constructor\" target=\"_blank\">complete documentation</a> and the examples it provides. \n",
    "1. **Write your tests. **If you haven't already been writing unit tests, now would be the time to start. Think about what you should test? At a minimum, you should have at least one test for your endpoint and at least one test for your image processing, but there are many different tests you could create. \n",
    "1. **Add caching.** Add caching to your application so that repeated requests to your endpoint use pre-stored images rather than regenerating a new image each time.\n",
    "1. **Test, Debug, and Refactor. **Think of edge-cases for your project and how someone may access your project. Should they get different error messages based on what's wrong?  Make certain that your user isn't left in the dark when something goes wrong. \n",
    "   * Do all of your tests still pass? \n",
    "   * Does stopping and restarting your server cause any issues?\n",
    "   * Does your user get feedback when something goes wrong?\n",
    "   * Is your code easy to follow? Comments?\n",
    "   * Is your API production-ready?\n",
    "1. **Build and Test. **If everything else has gone well, you should be able to compile your typescript and start up your production server to test that everything still works as expected. If everything works, you're ready to submit! Congratulations!"
   ]
  }
 ],
 "metadata": {
  "kernelspec": {
   "display_name": "Python 3",
   "language": "python",
   "name": "python3"
  },
  "language_info": {
   "codemirror_mode": {
    "name": "ipython",
    "version": 3
   },
   "file_extension": ".py",
   "mimetype": "text/x-python",
   "name": "python",
   "nbconvert_exporter": "python",
   "pygments_lexer": "ipython3",
   "version": "3.6.3"
  },
  "ulab_nb_type": "guided"
 },
 "nbformat": 4,
 "nbformat_minor": 4
}
